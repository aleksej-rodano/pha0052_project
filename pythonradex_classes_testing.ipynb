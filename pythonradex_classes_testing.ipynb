{
 "cells": [
  {
   "cell_type": "code",
   "execution_count": 25,
   "metadata": {},
   "outputs": [],
   "source": [
    "import pythonradex\n",
    "\n",
    "# # import necessary modules\n",
    "from pythonradex import radiative_transfer, helpers, LAMDA_file, atomic_transition\n",
    "from scipy import constants\n",
    "import numpy as np\n",
    "import matplotlib.pyplot as plt\n",
    "\n",
    "from scipy.stats import norm"
   ]
  },
  {
   "cell_type": "code",
   "execution_count": null,
   "metadata": {},
   "outputs": [],
   "source": []
  },
  {
   "cell_type": "code",
   "execution_count": 5,
   "metadata": {},
   "outputs": [],
   "source": [
    "# pyhonradex needs a file containing the atomic data, import it, this is a specific file for CO from LAMBDA database\n",
    "datafilepath = r\"C:\\Users\\alios\\OneDrive - University College London\\Desktop\\UCL\\Year3\\group project\\codes\\co_datafile.dat\"  # file downloaded from LAMDA database\n",
    "\n",
    "\n",
    "# define the geometry of the nebula\n",
    "geometry = \"uniform sphere\"\n",
    "\n",
    "# define the parameters of the nebula\n",
    "line_profile_type = \"Gaussian\"  # line profile, can be \"Gaussian\",  “rectangular”,\"LVG sphere\", \"LVG slab”\n",
    "width_v = 5 * constants.kilo  # line width in m/s, costants.kilo is 1 km/s\n",
    "\n",
    "cloud = radiative_transfer.Cloud(\n",
    "    datafilepath=datafilepath,\n",
    "    geometry=geometry,\n",
    "    line_profile_type=line_profile_type,\n",
    "    width_v=width_v,\n",
    ")\n",
    "\n",
    "N = 1e18 / constants.centi**2  # CO column density in m-2\n",
    "Tkin = 30  # kinetic temperature in [K]\n",
    "\n",
    "# collider densities in cm-3:\n",
    "para_h2_density = 1e8\n",
    "ortho_h2_density = 3e8\n",
    "\n",
    "# collider densities in m-3 (phytonradex takes the densities in m-3):\n",
    "collider_densities_LTE = {\n",
    "    \"para-H2\": para_h2_density / constants.centi**3,\n",
    "    \"ortho-H2\": ortho_h2_density / constants.centi**3,\n",
    "}\n",
    "\n",
    "# define the background radiation field, in this case we assume that the background is zero, z is the redshift\n",
    "ext_background = helpers.generate_CMB_background(z=0)\n",
    "\n",
    "# no dust:\n",
    "T_dust = 0\n",
    "tau_dust = 0\n",
    "\n",
    "# use high colliders density to simulate LTE\n",
    "cloud.update_parameters(\n",
    "    N=N,\n",
    "    Tkin=Tkin,\n",
    "    collider_densities=collider_densities_LTE,\n",
    "    ext_background=ext_background,\n",
    "    T_dust=T_dust,\n",
    "    tau_dust=tau_dust,\n",
    ")\n",
    "\n",
    "# solve the radiative trasfer equation, i.e. calculate the level population with an iterative method\n",
    "cloud.solve_radiative_transfer()"
   ]
  },
  {
   "cell_type": "code",
   "execution_count": null,
   "metadata": {},
   "outputs": [],
   "source": [
    "# store the data\n",
    "data_co = LAMDA_file.read(datafilepath, read_frequencies=True)\n",
    "\n",
    "# Initialize g_weigth\n",
    "levels = data_co[\"levels\"]\n",
    "rad_transitions = data_co[\"radiative transitions\"]\n",
    "coll_transitions = data_co[\"collisional transitions\"]\n",
    "quantum_numbers = data_co[\"quantum numbers\"]\n",
    "\n",
    "g_weigth = np.array([level.g for level in levels])\n",
    "g_up = np.array([gup.name for gup in rad_transitions])"
   ]
  },
  {
   "cell_type": "code",
   "execution_count": null,
   "metadata": {},
   "outputs": [],
   "source": []
  },
  {
   "cell_type": "code",
   "execution_count": 21,
   "metadata": {},
   "outputs": [],
   "source": [
    "number_level = np.array([level.number for level in levels])"
   ]
  },
  {
   "cell_type": "code",
   "execution_count": 22,
   "metadata": {},
   "outputs": [
    {
     "data": {
      "text/plain": [
       "array([ 0,  1,  2,  3,  4,  5,  6,  7,  8,  9, 10, 11, 12, 13, 14, 15, 16,\n",
       "       17, 18, 19, 20, 21, 22, 23, 24, 25, 26, 27, 28, 29, 30, 31, 32, 33,\n",
       "       34, 35, 36, 37, 38, 39, 40])"
      ]
     },
     "execution_count": 22,
     "metadata": {},
     "output_type": "execute_result"
    }
   ],
   "source": [
    "number_level"
   ]
  },
  {
   "cell_type": "code",
   "execution_count": 32,
   "metadata": {},
   "outputs": [
    {
     "data": {
      "text/plain": [
       "[<pythonradex.atomic_transition.RadiativeTransition at 0x2b1fa8c6c30>,\n",
       " <pythonradex.atomic_transition.RadiativeTransition at 0x2b1fa8c59a0>,\n",
       " <pythonradex.atomic_transition.RadiativeTransition at 0x2b1fa8c43e0>,\n",
       " <pythonradex.atomic_transition.RadiativeTransition at 0x2b1fa8c5be0>,\n",
       " <pythonradex.atomic_transition.RadiativeTransition at 0x2b1fa8c57c0>,\n",
       " <pythonradex.atomic_transition.RadiativeTransition at 0x2b1fa8c7170>,\n",
       " <pythonradex.atomic_transition.RadiativeTransition at 0x2b1fa8c6e10>,\n",
       " <pythonradex.atomic_transition.RadiativeTransition at 0x2b1fa8c67b0>,\n",
       " <pythonradex.atomic_transition.RadiativeTransition at 0x2b1fa8c6d50>,\n",
       " <pythonradex.atomic_transition.RadiativeTransition at 0x2b1fa8c6840>,\n",
       " <pythonradex.atomic_transition.RadiativeTransition at 0x2b1fa8c7260>,\n",
       " <pythonradex.atomic_transition.RadiativeTransition at 0x2b1fa8c68a0>,\n",
       " <pythonradex.atomic_transition.RadiativeTransition at 0x2b1fa8c51c0>,\n",
       " <pythonradex.atomic_transition.RadiativeTransition at 0x2b1fa8c4b30>,\n",
       " <pythonradex.atomic_transition.RadiativeTransition at 0x2b1f87720c0>,\n",
       " <pythonradex.atomic_transition.RadiativeTransition at 0x2b1fa8c4920>,\n",
       " <pythonradex.atomic_transition.RadiativeTransition at 0x2b1fa8c7f80>,\n",
       " <pythonradex.atomic_transition.RadiativeTransition at 0x2b1fa8c4e60>,\n",
       " <pythonradex.atomic_transition.RadiativeTransition at 0x2b1fa89bad0>,\n",
       " <pythonradex.atomic_transition.RadiativeTransition at 0x2b1fa89b4a0>,\n",
       " <pythonradex.atomic_transition.RadiativeTransition at 0x2b1fa89a7e0>,\n",
       " <pythonradex.atomic_transition.RadiativeTransition at 0x2b1fa89aae0>,\n",
       " <pythonradex.atomic_transition.RadiativeTransition at 0x2b1fa89bda0>,\n",
       " <pythonradex.atomic_transition.RadiativeTransition at 0x2b1fa89ab10>,\n",
       " <pythonradex.atomic_transition.RadiativeTransition at 0x2b1fa89b290>,\n",
       " <pythonradex.atomic_transition.RadiativeTransition at 0x2b1fa89a990>,\n",
       " <pythonradex.atomic_transition.RadiativeTransition at 0x2b1fa89bd10>,\n",
       " <pythonradex.atomic_transition.RadiativeTransition at 0x2b1fa89bc50>,\n",
       " <pythonradex.atomic_transition.RadiativeTransition at 0x2b1fa89b1a0>,\n",
       " <pythonradex.atomic_transition.RadiativeTransition at 0x2b1fa89a5d0>,\n",
       " <pythonradex.atomic_transition.RadiativeTransition at 0x2b1fa89a660>,\n",
       " <pythonradex.atomic_transition.RadiativeTransition at 0x2b1fa89a2d0>,\n",
       " <pythonradex.atomic_transition.RadiativeTransition at 0x2b1fa89a540>,\n",
       " <pythonradex.atomic_transition.RadiativeTransition at 0x2b1fa89a870>,\n",
       " <pythonradex.atomic_transition.RadiativeTransition at 0x2b1fa89a420>,\n",
       " <pythonradex.atomic_transition.RadiativeTransition at 0x2b1fa89b0b0>,\n",
       " <pythonradex.atomic_transition.RadiativeTransition at 0x2b1fa89ad80>,\n",
       " <pythonradex.atomic_transition.RadiativeTransition at 0x2b1fa89b680>,\n",
       " <pythonradex.atomic_transition.RadiativeTransition at 0x2b1fa89b500>,\n",
       " <pythonradex.atomic_transition.RadiativeTransition at 0x2b1fa89a510>]"
      ]
     },
     "execution_count": 32,
     "metadata": {},
     "output_type": "execute_result"
    }
   ],
   "source": [
    "rad_transitions"
   ]
  },
  {
   "cell_type": "code",
   "execution_count": null,
   "metadata": {},
   "outputs": [
    {
     "data": {
      "text/plain": [
       "<pythonradex.atomic_transition.RadiativeTransition at 0x2b1fa8c6c30>"
      ]
     },
     "execution_count": 36,
     "metadata": {},
     "output_type": "execute_result"
    }
   ],
   "source": []
  },
  {
   "cell_type": "code",
   "execution_count": 43,
   "metadata": {},
   "outputs": [],
   "source": [
    "Eu = np.array([level.E for level in levels]) / constants.k\n",
    "\n",
    "Eu_test = np.array([level.up.E for level in rad_transitions]) / constants.k"
   ]
  },
  {
   "cell_type": "code",
   "execution_count": 45,
   "metadata": {},
   "outputs": [
    {
     "data": {
      "text/plain": [
       "array([   0.        ,    5.53214517,   16.59617609,   33.19188137,\n",
       "         55.31833031,   82.974736  ,  116.16031175,  154.87340764,\n",
       "        199.11280441,  248.87685379,  304.16332873,  364.97043585,\n",
       "        431.29580629,  503.13678297,  580.49056589,  663.35449669,\n",
       "        751.72520052,  845.599158  ,  944.97313597, 1049.84303913,\n",
       "       1160.20491752, 1276.0546769 , 1397.3877882 , 1524.19972692,\n",
       "       1656.48539072, 1794.2399659 , 1937.45806361, 2086.1342947 ,\n",
       "       2240.26298185, 2399.83801775, 2564.8534387 , 2735.3029919 ,\n",
       "       2911.18013782, 3092.47804981, 3279.18990371, 3471.30844029,\n",
       "       3668.82625666, 3871.73609478, 4080.02983772, 4293.69964515,\n",
       "       4512.73740391])"
      ]
     },
     "execution_count": 45,
     "metadata": {},
     "output_type": "execute_result"
    }
   ],
   "source": [
    "Eu"
   ]
  },
  {
   "cell_type": "code",
   "execution_count": 44,
   "metadata": {},
   "outputs": [
    {
     "data": {
      "text/plain": [
       "array([   5.53214517,   16.59617609,   33.19188137,   55.31833031,\n",
       "         82.974736  ,  116.16031175,  154.87340764,  199.11280441,\n",
       "        248.87685379,  304.16332873,  364.97043585,  431.29580629,\n",
       "        503.13678297,  580.49056589,  663.35449669,  751.72520052,\n",
       "        845.599158  ,  944.97313597, 1049.84303913, 1160.20491752,\n",
       "       1276.0546769 , 1397.3877882 , 1524.19972692, 1656.48539072,\n",
       "       1794.2399659 , 1937.45806361, 2086.1342947 , 2240.26298185,\n",
       "       2399.83801775, 2564.8534387 , 2735.3029919 , 2911.18013782,\n",
       "       3092.47804981, 3279.18990371, 3471.30844029, 3668.82625666,\n",
       "       3871.73609478, 4080.02983772, 4293.69964515, 4512.73740391])"
      ]
     },
     "execution_count": 44,
     "metadata": {},
     "output_type": "execute_result"
    }
   ],
   "source": [
    "Eu_test"
   ]
  },
  {
   "cell_type": "code",
   "execution_count": null,
   "metadata": {},
   "outputs": [
    {
     "name": "stdout",
     "output_type": "stream",
     "text": [
      "statsitical weight of upper level  3.0\n",
      "Energy of upper level Eu 5.532145167854433\n"
     ]
    }
   ],
   "source": [
    "for i, tran in enumerate(rad_transitions):\n",
    "    gu = tran.up.g\n",
    "    Eu = tran.up.E\n",
    "    print(f\"Transition {i}:\")\n",
    "    print(\"Statistical weight of upper level \", gu)\n",
    "    print(\"Energy of upper level Eu\", Eu / constants.k)\n",
    "    print()\n",
    "\n",
    "print(\"statsitical weight of upper level \", gu)\n",
    "print(\"Energy of upper level Eu\", Eu / constants.k)"
   ]
  },
  {
   "cell_type": "code",
   "execution_count": 31,
   "metadata": {},
   "outputs": [
    {
     "ename": "AttributeError",
     "evalue": "'list' object has no attribute 'up'",
     "output_type": "error",
     "traceback": [
      "\u001b[1;31m---------------------------------------------------------------------------\u001b[0m",
      "\u001b[1;31mAttributeError\u001b[0m                            Traceback (most recent call last)",
      "Cell \u001b[1;32mIn[31], line 1\u001b[0m\n\u001b[1;32m----> 1\u001b[0m \u001b[43mrad_transitions\u001b[49m\u001b[38;5;241;43m.\u001b[39;49m\u001b[43mup\u001b[49m\u001b[38;5;241m.\u001b[39mg\n",
      "\u001b[1;31mAttributeError\u001b[0m: 'list' object has no attribute 'up'"
     ]
    }
   ],
   "source": [
    "rad_transitions.up.g"
   ]
  },
  {
   "cell_type": "code",
   "execution_count": null,
   "metadata": {},
   "outputs": [],
   "source": [
    "EmittingMolecule"
   ]
  },
  {
   "cell_type": "code",
   "execution_count": 27,
   "metadata": {},
   "outputs": [
    {
     "ename": "AttributeError",
     "evalue": "type object 'Level' has no attribute 'up'",
     "output_type": "error",
     "traceback": [
      "\u001b[1;31m---------------------------------------------------------------------------\u001b[0m",
      "\u001b[1;31mAttributeError\u001b[0m                            Traceback (most recent call last)",
      "Cell \u001b[1;32mIn[27], line 1\u001b[0m\n\u001b[1;32m----> 1\u001b[0m eup_rad_transition \u001b[38;5;241m=\u001b[39m np\u001b[38;5;241m.\u001b[39marray([\u001b[43matomic_transition\u001b[49m\u001b[38;5;241;43m.\u001b[39;49m\u001b[43mLevel\u001b[49m\u001b[38;5;241;43m.\u001b[39;49m\u001b[43mup\u001b[49m \u001b[38;5;28;01mfor\u001b[39;00m transition \u001b[38;5;129;01min\u001b[39;00m rad_transitions])\n",
      "\u001b[1;31mAttributeError\u001b[0m: type object 'Level' has no attribute 'up'"
     ]
    }
   ],
   "source": [
    "eup_rad_transition = np.array([atomic_transition.Level.up for transition in rad_transitions])"
   ]
  },
  {
   "cell_type": "code",
   "execution_count": 19,
   "metadata": {},
   "outputs": [
    {
     "data": {
      "text/plain": [
       "np.str_('1-0')"
      ]
     },
     "execution_count": 19,
     "metadata": {},
     "output_type": "execute_result"
    }
   ],
   "source": [
    "g_up[0]"
   ]
  },
  {
   "cell_type": "code",
   "execution_count": null,
   "metadata": {},
   "outputs": [
    {
     "name": "stdout",
     "output_type": "stream",
     "text": [
      "1\n"
     ]
    }
   ],
   "source": [
    "def extract_upper_number(np_str):\n",
    "    return int(np_str.split(\"-\")[0])\n",
    "\n",
    "\n",
    "# Example usage\n",
    "first_number = extract_upper_number(g_up[0])\n",
    "\n",
    "print(first_number)  # Output: 1"
   ]
  },
  {
   "cell_type": "code",
   "execution_count": 8,
   "metadata": {},
   "outputs": [
    {
     "data": {
      "text/plain": [
       "array([ 1.,  3.,  5.,  7.,  9., 11., 13., 15., 17., 19., 21., 23., 25.,\n",
       "       27., 29., 31., 33., 35., 37., 39., 41., 43., 45., 47., 49., 51.,\n",
       "       53., 55., 57., 59., 61., 63., 65., 67., 69., 71., 73., 75., 77.,\n",
       "       79., 81.])"
      ]
     },
     "execution_count": 8,
     "metadata": {},
     "output_type": "execute_result"
    }
   ],
   "source": [
    "g_weigth"
   ]
  },
  {
   "cell_type": "markdown",
   "metadata": {},
   "source": [
    "# Testing methanol "
   ]
  },
  {
   "cell_type": "code",
   "execution_count": null,
   "metadata": {},
   "outputs": [
    {
     "name": "stdout",
     "output_type": "stream",
     "text": [
      "79-78: tau_nu0 = -0.0215\n",
      "121-120: tau_nu0 = -0.0107\n",
      "137-136: tau_nu0 = -4.31e-06\n"
     ]
    },
    {
     "name": "stderr",
     "output_type": "stream",
     "text": [
      "c:\\Users\\alios\\AppData\\Local\\Programs\\Python\\Python312\\Lib\\site-packages\\pythonradex\\radiative_transfer.py:333: UserWarning: negative optical depth!\n",
      "  warnings.warn('negative optical depth!')\n"
     ]
    }
   ],
   "source": [
    "# pyhonradex needs a file containing the atomic data, import it, this is a specific file for CO from LAMBDA database\n",
    "datafilepath = (\n",
    "    r\"C:\\Users\\alios\\OneDrive - University College London\\Desktop\\UCL\\Year3\\group project\\codes\\e_ch3oh.dat\"  # file downloaded from LAMDA database\n",
    ")\n",
    "\n",
    "\n",
    "# define the geometry of the nebula\n",
    "geometry = \"uniform sphere\"\n",
    "\n",
    "# define the parameters of the nebula\n",
    "line_profile_type = \"Gaussian\"  # line profile, can be \"Gaussian\",  “rectangular”,\"LVG sphere\", \"LVG slab”\n",
    "width_v = 5 * constants.kilo  # line width in m/s, costants.kilo is 1 km/s\n",
    "\n",
    "cloud = radiative_transfer.Cloud(\n",
    "    datafilepath=datafilepath,\n",
    "    geometry=geometry,\n",
    "    line_profile_type=line_profile_type,\n",
    "    width_v=width_v,\n",
    ")\n",
    "\n",
    "N = 1e18 / constants.centi**2  # CO column density in m-2\n",
    "Tkin = 30  # kinetic temperature in [K]\n",
    "\n",
    "# collider densities in cm-3:\n",
    "para_h2_density = 1e8\n",
    "ortho_h2_density = 3e8\n",
    "\n",
    "# collider densities in m-3 (phytonradex takes the densities in m-3):\n",
    "LTE_collider_densities_h2only = {\"H2\": 1e8 / constants.centi**3}\n",
    "\n",
    "# define the background radiation field, in this case we assume that the background is zero, z is the redshift\n",
    "ext_background = helpers.generate_CMB_background(z=0)\n",
    "\n",
    "# no dust:\n",
    "T_dust = 0\n",
    "tau_dust = 0\n",
    "\n",
    "# use high colliders density to simulate LTE\n",
    "cloud.update_parameters(\n",
    "    N=N,\n",
    "    Tkin=Tkin,\n",
    "    collider_densities=LTE_collider_densities_h2only,\n",
    "    ext_background=ext_background,\n",
    "    T_dust=T_dust,\n",
    "    tau_dust=tau_dust,\n",
    ")\n",
    "\n",
    "# solve the radiative trasfer equation, i.e. calculate the level population with an iterative method\n",
    "cloud.solve_radiative_transfer()"
   ]
  },
  {
   "cell_type": "code",
   "execution_count": null,
   "metadata": {},
   "outputs": [],
   "source": []
  },
  {
   "cell_type": "code",
   "execution_count": null,
   "metadata": {},
   "outputs": [],
   "source": [
    "# store the data\n",
    "data = LAMDA_file.read(datafilepath, read_frequencies=False)\n",
    "\n",
    "# Initialize g_weigth\n",
    "levels = data[\"levels\"]\n",
    "rad_transitions = data[\"radiative transitions\"]\n",
    "coll_transitions = data[\"collisional transitions\"]\n",
    "quantum_numbers = data[\"quantum numbers\"]\n"
   ]
  },
  {
   "cell_type": "code",
   "execution_count": 54,
   "metadata": {},
   "outputs": [],
   "source": [
    "Eu_test = np.array([transition.up.E for transition in rad_transitions]) / constants.k"
   ]
  },
  {
   "cell_type": "code",
   "execution_count": 51,
   "metadata": {},
   "outputs": [
    {
     "data": {
      "text/plain": [
       "array([ 175.52646272,   36.33487126,  215.89566435, ...,  788.06989178,\n",
       "        972.79157753, 1405.59868271])"
      ]
     },
     "execution_count": 51,
     "metadata": {},
     "output_type": "execute_result"
    }
   ],
   "source": [
    "Eu_test"
   ]
  },
  {
   "cell_type": "code",
   "execution_count": 55,
   "metadata": {},
   "outputs": [],
   "source": [
    "gup = np.array([level.up.g for level in rad_transitions])\n",
    "glow = np.array([level.low.g for level in rad_transitions])\n"
   ]
  },
  {
   "cell_type": "code",
   "execution_count": 59,
   "metadata": {},
   "outputs": [
    {
     "name": "stdout",
     "output_type": "stream",
     "text": [
      "[23.  9. 23. 13. 19.  5. 29. 15. 17.  5.]\n"
     ]
    }
   ],
   "source": [
    "print(gup[:10])"
   ]
  },
  {
   "cell_type": "code",
   "execution_count": 60,
   "metadata": {},
   "outputs": [
    {
     "name": "stdout",
     "output_type": "stream",
     "text": [
      "[21.  7. 21. 15. 17.  7. 31. 13. 19.  7.]\n"
     ]
    }
   ],
   "source": [
    "print(glow[:10])"
   ]
  },
  {
   "cell_type": "code",
   "execution_count": null,
   "metadata": {},
   "outputs": [],
   "source": []
  }
 ],
 "metadata": {
  "kernelspec": {
   "display_name": "Python 3",
   "language": "python",
   "name": "python3"
  },
  "language_info": {
   "codemirror_mode": {
    "name": "ipython",
    "version": 3
   },
   "file_extension": ".py",
   "mimetype": "text/x-python",
   "name": "python",
   "nbconvert_exporter": "python",
   "pygments_lexer": "ipython3",
   "version": "3.12.6"
  }
 },
 "nbformat": 4,
 "nbformat_minor": 2
}
