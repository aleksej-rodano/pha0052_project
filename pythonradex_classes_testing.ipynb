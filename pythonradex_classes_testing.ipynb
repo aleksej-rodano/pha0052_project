{
 "cells": [
  {
   "cell_type": "code",
   "execution_count": 4,
   "metadata": {},
   "outputs": [],
   "source": [
    "import pythonradex\n",
    "\n",
    "# # import necessary modules\n",
    "from pythonradex import radiative_transfer, helpers, LAMDA_file\n",
    "from scipy import constants\n",
    "import numpy as np\n",
    "import matplotlib.pyplot as plt\n",
    "\n",
    "from scipy.stats import norm"
   ]
  },
  {
   "cell_type": "code",
   "execution_count": 5,
   "metadata": {},
   "outputs": [],
   "source": [
    "# pyhonradex needs a file containing the atomic data, import it, this is a specific file for CO from LAMBDA database\n",
    "datafilepath = r\"C:\\Users\\alios\\OneDrive - University College London\\Desktop\\UCL\\Year3\\group project\\codes\\co_datafile.dat\"  # file downloaded from LAMDA database\n",
    "\n",
    "\n",
    "# define the geometry of the nebula\n",
    "geometry = \"uniform sphere\"\n",
    "\n",
    "# define the parameters of the nebula\n",
    "line_profile_type = \"Gaussian\"  # line profile, can be \"Gaussian\",  “rectangular”,\"LVG sphere\", \"LVG slab”\n",
    "width_v = 5 * constants.kilo  # line width in m/s, costants.kilo is 1 km/s\n",
    "\n",
    "cloud = radiative_transfer.Cloud(\n",
    "    datafilepath=datafilepath,\n",
    "    geometry=geometry,\n",
    "    line_profile_type=line_profile_type,\n",
    "    width_v=width_v,\n",
    ")\n",
    "\n",
    "N = 1e18 / constants.centi**2  # CO column density in m-2\n",
    "Tkin = 30  # kinetic temperature in [K]\n",
    "\n",
    "# collider densities in cm-3:\n",
    "para_h2_density = 1e8\n",
    "ortho_h2_density = 3e8\n",
    "\n",
    "# collider densities in m-3 (phytonradex takes the densities in m-3):\n",
    "collider_densities_LTE = {\n",
    "    \"para-H2\": para_h2_density / constants.centi**3,\n",
    "    \"ortho-H2\": ortho_h2_density / constants.centi**3,\n",
    "}\n",
    "\n",
    "# define the background radiation field, in this case we assume that the background is zero, z is the redshift\n",
    "ext_background = helpers.generate_CMB_background(z=0)\n",
    "\n",
    "# no dust:\n",
    "T_dust = 0\n",
    "tau_dust = 0\n",
    "\n",
    "# use high colliders density to simulate LTE\n",
    "cloud.update_parameters(\n",
    "    N=N,\n",
    "    Tkin=Tkin,\n",
    "    collider_densities=collider_densities_LTE,\n",
    "    ext_background=ext_background,\n",
    "    T_dust=T_dust,\n",
    "    tau_dust=tau_dust,\n",
    ")\n",
    "\n",
    "# solve the radiative trasfer equation, i.e. calculate the level population with an iterative method\n",
    "cloud.solve_radiative_transfer()"
   ]
  },
  {
   "cell_type": "code",
   "execution_count": 6,
   "metadata": {},
   "outputs": [],
   "source": [
    "# store the data\n",
    "data_co = LAMDA_file.read(datafilepath, read_frequencies=True)"
   ]
  },
  {
   "cell_type": "code",
   "execution_count": 17,
   "metadata": {},
   "outputs": [],
   "source": [
    "# Initialize g_weigth\n",
    "levels = data_co[\"levels\"]\n",
    "rad_transitions = data_co[\"radiative transitions\"]\n",
    "coll_transitions = data_co[\"collisional transitions\"]\n",
    "quantum_numbers = data_co[\"quantum numbers\"]\n",
    "\n",
    "g_weigth = np.array([level.g for level in levels])\n",
    "g_up = np.array([gup.name for gup in rad_transitions])"
   ]
  },
  {
   "cell_type": "code",
   "execution_count": 19,
   "metadata": {},
   "outputs": [
    {
     "data": {
      "text/plain": [
       "np.str_('1-0')"
      ]
     },
     "execution_count": 19,
     "metadata": {},
     "output_type": "execute_result"
    }
   ],
   "source": [
    "g_up[0]"
   ]
  },
  {
   "cell_type": "code",
   "execution_count": 8,
   "metadata": {},
   "outputs": [
    {
     "data": {
      "text/plain": [
       "array([ 1.,  3.,  5.,  7.,  9., 11., 13., 15., 17., 19., 21., 23., 25.,\n",
       "       27., 29., 31., 33., 35., 37., 39., 41., 43., 45., 47., 49., 51.,\n",
       "       53., 55., 57., 59., 61., 63., 65., 67., 69., 71., 73., 75., 77.,\n",
       "       79., 81.])"
      ]
     },
     "execution_count": 8,
     "metadata": {},
     "output_type": "execute_result"
    }
   ],
   "source": [
    "g_weigth"
   ]
  }
 ],
 "metadata": {
  "kernelspec": {
   "display_name": "Python 3",
   "language": "python",
   "name": "python3"
  },
  "language_info": {
   "codemirror_mode": {
    "name": "ipython",
    "version": 3
   },
   "file_extension": ".py",
   "mimetype": "text/x-python",
   "name": "python",
   "nbconvert_exporter": "python",
   "pygments_lexer": "ipython3",
   "version": "3.12.6"
  }
 },
 "nbformat": 4,
 "nbformat_minor": 2
}
